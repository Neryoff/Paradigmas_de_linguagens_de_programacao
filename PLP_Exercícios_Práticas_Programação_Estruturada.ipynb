{
  "nbformat": 4,
  "nbformat_minor": 0,
  "metadata": {
    "colab": {
      "provenance": [],
      "authorship_tag": "ABX9TyPJi9AWXMnvvsolrWFN3Daj",
      "include_colab_link": true
    },
    "kernelspec": {
      "name": "python3",
      "display_name": "Python 3"
    },
    "language_info": {
      "name": "python"
    }
  },
  "cells": [
    {
      "cell_type": "markdown",
      "metadata": {
        "id": "view-in-github",
        "colab_type": "text"
      },
      "source": [
        "<a href=\"https://colab.research.google.com/github/Neryoff/Paradigmas_de_linguagens_de_programacao/blob/main/PLP_Exerc%C3%ADcios_Pr%C3%A1ticas_Programa%C3%A7%C3%A3o_Estruturada.ipynb\" target=\"_parent\"><img src=\"https://colab.research.google.com/assets/colab-badge.svg\" alt=\"Open In Colab\"/></a>"
      ]
    },
    {
      "cell_type": "code",
      "execution_count": null,
      "metadata": {
        "id": "9DLoYLNCaxUp"
      },
      "outputs": [],
      "source": [
        "# Programa 01 - Linguagem Python - Programação\n",
        "# Autor: Victor Nery de Lima Maia de Medina - Data: 18/08/2023 - Linguagem: Python."
      ]
    },
    {
      "cell_type": "markdown",
      "source": [
        "Descrição Narrativa: Faça um programa que leia duas notas e calcule sua média, levando em consideração que para ser aprovado o aluno tem\n",
        "que ter média >= 7."
      ],
      "metadata": {
        "id": "-wKJdkpBbmwx"
      }
    },
    {
      "cell_type": "code",
      "source": [
        "from typing_extensions import reveal_type\n",
        "\n",
        "# Leitura do Dados de Entrada\n",
        "Nota1 = (float(input(\"Informae o valor da primeira nota:\")))\n",
        "Nota2 = (float(input(\"Informe o valor da segunda nota:\")))\n",
        "\n",
        "# Calcular a Média das Notas\n",
        "Med = (Nota1 + Nota2)/2\n",
        "\n",
        "# Estrutura de Decisão com IF para Verificar se o Aluno foi Aprovado ou Reprovado\n",
        "if(Med >=7):\n",
        "  Rep =  \"APROVADO\"\n",
        "else:\n",
        "  Rep = \"REPROVADO\"\n",
        "\n",
        "# Escreva os Resultados Obtidos\n",
        "print(\"O valor da média é:\", Med)\n",
        "print(\"O conceito do aluno foi:\", Rep)\n"
      ],
      "metadata": {
        "id": "SehCDAnScKqA"
      },
      "execution_count": null,
      "outputs": []
    },
    {
      "cell_type": "code",
      "source": [
        "## Modularizando o Programa em Questão"
      ],
      "metadata": {
        "id": "hMkiyxZUj5MW"
      },
      "execution_count": null,
      "outputs": []
    },
    {
      "cell_type": "code",
      "source": [
        "# Criando o método para calcular em Questão\n",
        "def calmedia(n1, n2):\n",
        "  return (n1 + n2)/2"
      ],
      "metadata": {
        "id": "ghpD6Nhpjktn"
      },
      "execution_count": null,
      "outputs": []
    },
    {
      "cell_type": "code",
      "source": [
        "# Verificar a situação do aluno.\n",
        "def verificarsituacao(media):\n",
        "  if (media >= 7):\n",
        "    return  \"APROVADO\"\n",
        "  else:\n",
        "    return \"REPROVADO\""
      ],
      "metadata": {
        "id": "lTHycBeLkghC"
      },
      "execution_count": null,
      "outputs": []
    },
    {
      "cell_type": "code",
      "source": [
        "from typing_extensions import reveal_type\n",
        "\n",
        "# Leitura do Dados de Entrada\n",
        "Nota1 = (float(input(\"Informe o valor da primeira nota:\")))\n",
        "Nota2 = (float(input(\"Informe o valor da segunda nota:\")))\n",
        "\n",
        "# Calcular a Média das Notas\n",
        "med = calmedia(Nota1, Nota2)\n",
        "\n",
        "# Estrutura de Decisão com IF para Verificar se o Aluno foi Aprovado ou Reprovado\n",
        "resp = verificarsituacao(med)\n",
        "\n",
        "# Escreva os Resultados Obtidos\n",
        "print(\"O valor da média é:\", med)\n",
        "print(\"O conceito do aluno foi:\", resp)\n"
      ],
      "metadata": {
        "id": "w58g8vTNlafj"
      },
      "execution_count": null,
      "outputs": []
    },
    {
      "cell_type": "code",
      "source": [
        "# Criando o método para calcular desconto no  Produto\n",
        "def caldesconto(n1, n2):\n",
        "  return (n1*n2/100)"
      ],
      "metadata": {
        "id": "lxtBucj8pFDU"
      },
      "execution_count": null,
      "outputs": []
    },
    {
      "cell_type": "code",
      "source": [
        "#Criando um método para calcular o valor final do Produto\n",
        "def valorproduto(x1, x2):\n",
        "  return(x1-x2)"
      ],
      "metadata": {
        "id": "17ILtq3AsHJz"
      },
      "execution_count": null,
      "outputs": []
    },
    {
      "cell_type": "code",
      "source": [
        "# Leitura do Dados de Entrada\n",
        "Vproduto = (float(input(\"Informe o valor do produto:\")))\n",
        "Vdesconto = (float(input(\"Informe o valor do desconto:\")))\n",
        "\n",
        "# Calcular a Média das Notas\n",
        "desc = caldesconto(Vproduto, Vdesconto)\n",
        "\n",
        "# Escreva os Resultados Obtidos\n",
        "print(\"O valor do produto com desconto é R$:\", valorproduto(Vproduto, desc))\n",
        "print(\"O desconto foi de R$:\", desc)\n"
      ],
      "metadata": {
        "id": "PQWM9QS8pZm7"
      },
      "execution_count": null,
      "outputs": []
    },
    {
      "cell_type": "code",
      "source": [
        "#Calculo do tempo que perdeu de vida\n",
        "def tempoperdido(n1, n2):\n",
        "  return(n1*365*n2*10)"
      ],
      "metadata": {
        "id": "erDWdAHxuoIR"
      },
      "execution_count": 5,
      "outputs": []
    },
    {
      "cell_type": "code",
      "source": [
        "def tempoemanos(x1):\n",
        "  return int(x1/(24*60))"
      ],
      "metadata": {
        "id": "bwKROrADwJvy"
      },
      "execution_count": 17,
      "outputs": []
    },
    {
      "cell_type": "code",
      "source": [
        "# Leitura do Dados de Entrada\n",
        "Cigarrosdia = (int(input(\"Informe quantos cigarros você fuma por dia:\")))\n",
        "Tempofumando = (int(input(\"Informe a quanto tempo você fuma:\")))\n",
        "\n",
        "# Calcular a Tempo Perdido\n",
        "anos_fumando = tempoperdido (Cigarrosdia, Tempofumando)\n",
        "\n",
        "# Escreva os Resultados Obtidos\n",
        "print(\"O tempo que você perdeu fumando foi de:\", tempoemanos(anos_fumando), \"anos\")\n",
        "\n"
      ],
      "metadata": {
        "colab": {
          "base_uri": "https://localhost:8080/"
        },
        "id": "mGEoIOBluSui",
        "outputId": "ba07ff11-f714-46e9-d599-cc796cf08559"
      },
      "execution_count": 18,
      "outputs": [
        {
          "output_type": "stream",
          "name": "stdout",
          "text": [
            "Informe quantos cigarros você fuma por dia:3\n",
            "Informe a quanto tempo você fuma:3\n",
            "O tempo que você perdeu fumando foi de: 22 anos\n"
          ]
        }
      ]
    }
  ]
}
